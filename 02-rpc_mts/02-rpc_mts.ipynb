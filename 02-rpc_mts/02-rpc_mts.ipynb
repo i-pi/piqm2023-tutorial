{
 "cells": [
  {
   "cell_type": "markdown",
   "metadata": {},
   "source": [
    "<p style=\"font-size:32px; font-weight: bolder; text-align: center\"> Multiple time stepping <br/> and ring-polymer contraction </p>\n",
    "<p style=\"text-align: center\"><i> authored by: <a href=\"mailto:michele.ceriotti@gmail.com\"> Michele Ceriotti </a></i></p>"
   ]
  },
  {
   "cell_type": "markdown",
   "metadata": {},
   "source": [
    "This notebook provides an introduction to two closely-related techniques, that are geared towards reducing the cost of calculations by separating slowly-varying (and computationally-expensive) components of the potential energy from the fast-varying (and hopefully cheaper) ones.\n",
    "\n",
    "The first is named _multiple time stepping_, and is a well-established technique to avoid evaluating the slowly-varying components at every time step of a MD simulation. It was first introduced in [M. Tuckerman, B. J. Berne, and G. J. Martyna, JCP 97(3), 1990 (1992)](https://doi.org/10.1063/1.463137) and can be applied to classical simulations - typically to avoid the evaluation of long-range electrostatics in classical potentials. \n",
    "\n",
    "The second is named _ring polymer contraction_, first introduced in [T. E. Markland and D. E. Manolopoulos, JCP 129(2), 024105 (2008)](https://doi.org/10.1063/1.2953308) can be seen as performing a similar simplification _in imaginary time_, evaluating the expensive part of the potential on a smaller number of PI replicas. \n",
    "\n",
    "The techniques can be combined, which reduces even further the computational effort. This dual approach, which was introduced in [V. Kapil, J. VandeVondele, and M. Ceriotti, JCP 144(5), 054111 (2016)](https://doi.org/10.1063/1.4941091) and [O. Marsalek and T. E. Markland, JCP 144(5), (2016)](https://doi.org/10.1063/1.4941093), is the one that we will discuss here, allowing us to showcase two advanced features of i-PI. It is worth stressing that MTS and/or RPC can be used very conveniently together with machine-learning potentials (see e.g. [V. Kapil, J. Behler, and M. Ceriotti, JCP 145(23), 234103 (2016)](https://doi.org/10.1063/1.4971438) for an early application). "
   ]
  },
  {
   "cell_type": "code",
   "execution_count": 1,
   "metadata": {},
   "outputs": [],
   "source": [
    "import numpy as np\n",
    "import matplotlib.pyplot as plt\n",
    "import ase, ase.io\n",
    "import chemiscope\n",
    "import pimdmooc\n",
    "import warnings\n",
    "pimdmooc.add_ipi_paths()"
   ]
  },
  {
   "cell_type": "markdown",
   "metadata": {
    "tags": []
   },
   "source": [
    "# Multiple time stepping in real and imaginary time"
   ]
  },
  {
   "cell_type": "markdown",
   "metadata": {},
   "source": [
    "The core underlying assumption in these techniques is that the potential can be decomposed into a short-range/fast-varying/computationally-cheap part $V_\\mathrm{sr}$ and a long-range/slow-varying/computationally-expensive part $V_\\mathrm{lr}$.  This is usually written as $V=V_\\mathrm{sr} +V_\\mathrm{lr}$, although in many cases $V_\\mathrm{sr}$ is a cheap approximation of the potential, and $V_\\mathrm{lr}$ is taken to be the difference between this potential and the full one. \n",
    "\n",
    "<div align=\"center\">\n",
    "  <img style='width:40%; test-align:center' src=\"figures/pimd-mts-pots.png\" alt=\"A smooth and rough potential components combine to form the total potential energy function usef in a simulation.\"/>\n",
    "</div>\n",
    "\n",
    "Either way, the idea is that it should be possible to compute the slowly-varying component using a coarser time grid, as shown in the figure. "
   ]
  },
  {
   "cell_type": "markdown",
   "metadata": {},
   "source": [
    "The way this is realized in practice is by splitting the propagation of Hamilton's equations into an inner loop that uses the fast/cheap force, and an outer loop that applies the slow force, using a larger time step (and therefore giving a larger \"kick\").  \n",
    "\n",
    "<div align=\"center\">\n",
    "  <img style='width:40%; test-align:center' src=\"figures/pimd-mts-integrator.png\" alt=\"Schematic representation of the application of slow and fast forces in a multiple time step molecular dynamics algorithm\"/>\n",
    "</div>\n",
    "\n",
    "The scheme is exemplified by the figure above. Using a 1D notation for simplicity, the MTS algorithm reads like\n",
    "\n",
    "$$\n",
    "\\begin{split}\n",
    "&p\\leftarrow p + f_\\mathrm{lr} dt/2 \\\\\n",
    "&\\left.\n",
    "\\begin{split}\n",
    "&p\\leftarrow p + f_\\mathrm{sr} dt/2M \\\\\n",
    "&q\\leftarrow q + p\\, dt/M \\\\\n",
    "&p\\leftarrow p + f_\\mathrm{sr} dt/2M \\\\\n",
    "\\end{split} \n",
    "\\right\\} M\\ \\mathrm{times}\\\\\n",
    "&p\\leftarrow p + f_\\mathrm{lr} dt/2 \\\\\n",
    "\\end{split}\n",
    "$$\n",
    "\n",
    "which can (and usually is) complemented by aggressive thermostatting, that helps stabilize the dynamics in the limit of large $M$. See e.g. [J. A. Morrone, T. E. Markland, M. Ceriotti, and B. J. Berne, JCP 134(1), 14103 (2011)](https://doi.org/10.1063/1.3518369) for a discussion of how thermostatting can help in this context. "
   ]
  },
  {
   "cell_type": "markdown",
   "metadata": {},
   "source": [
    "The idea behind ring-polymer contraction is very similar: it is unnecessary to evaluate on a very fine-grained discretization of the path integral components of the potential that are slowly-varying. \n",
    "\n",
    "<div align=\"center\">\n",
    "  <img style='width:40%; test-align:center' src=\"figures/pimd-mts-rpc.png\" alt=\"A visualization of how only the fast-varying part of the potential requires a high-resolution discretization of the ring polymer.\"/> &nbsp; &nbsp;&nbsp;&nbsp; <img style='width:20%; test-align:center' src=\"figures/rpc-4.png\" alt=\"Fourier interpolation of the positions of the beads in a 2D ring polymer.\"/>\n",
    "</div>\n",
    "\n",
    "As shown in the right-hand panel above, ring-polymer contraction is realized by computing a Fourier interpolation of the bead positions, $\\tilde{\\mathbf{q}}^{(k)}$, and then evaluating the total potential that enters the ring-polymer Hamiltonian as \n",
    "\n",
    "$$\n",
    "V(\\mathbf{q}) = \\sum_{k=1}^P V_\\mathrm{sr}(\\mathbf{q}^{(k)}) + \\frac{P}{P'}  \\sum_{k=1}^{P'} V_\\mathrm{lr}(\\tilde{\\mathbf{q}}^{(k)})\n",
    "$$\n",
    "\n",
    "where $P$ and $P'$ indicate the full and contracted discretizations of the path. "
   ]
  },
  {
   "cell_type": "markdown",
   "metadata": {},
   "source": [
    "<a id=\"setting-up\"> </a>"
   ]
  },
  {
   "cell_type": "markdown",
   "metadata": {},
   "source": [
    "# A reference calculation using PIGLET"
   ]
  },
  {
   "cell_type": "markdown",
   "metadata": {},
   "source": [
    "First, let's run a reference calculation without RPC or MTS. These calculations will be done for the q-TIP4P/f water model, [S. Habershon, T. E. Markland, and D. E. Manolopoulos, JCP 131(2), 24501 (2009)](https://doi.org/10.1063/1.3167790), that contains a Morse-potential anharmonic intra-molecular potential, and an inter-molecular potential based on a Lennard-Jones term and a 4-point electrostatic model (the venerable TIP4P idea).  It is fitted to reproduce experimental properties of water _when performing PIMD calculations_ and it captures nicely several subtle effects while being cheap and easy-to-implement. Easy enough to have it in the built-in driver distributed with i-PI.\n",
    "\n",
    "The input for this run is `h2o_pimd.xml`, and we will use the `-m qtip4pf` option of `i-pi-driver` to compute the appropriate potential. The simulation involves a respectable box containing 216 water molecules, and is run with 8 beads and a _PIGLET_ thermostat (cf. [M. Ceriotti and D. E. Manolopoulos, Phys. Rev. Lett. 109(10), 100604 (2012)](https://doi.org/10.1103/PhysRevLett.109.100604). For simplicity, we use the constant-volume _NVT_ ensemble, but you can easily modify the input to perform constant-pressure simulations. "
   ]
  },
  {
   "cell_type": "markdown",
   "metadata": {},
   "source": [
    "The important parts of the simulation - which we will modify to run a RPC/MTS simulation - are the definition of the forcefield socket"
   ]
  },
  {
   "cell_type": "code",
   "execution_count": 2,
   "metadata": {},
   "outputs": [
    {
     "name": "stdout",
     "output_type": "stream",
     "text": [
      "  <ffsocket mode='unix' name='qtip4pf' pbc='false'>\n",
      "      <address>qtip4pf</address>\n",
      "  </ffsocket>\n"
     ]
    }
   ],
   "source": [
    "!sed -n '8,10p' h2o_pimd.xml"
   ]
  },
  {
   "cell_type": "markdown",
   "metadata": {},
   "source": [
    "The important parts of the simulation - which we will modify to run a RPC/MTS simulation - are the definition of the forcefield socket, with the corresponding force definition"
   ]
  },
  {
   "cell_type": "code",
   "execution_count": 3,
   "metadata": {},
   "outputs": [
    {
     "name": "stdout",
     "output_type": "stream",
     "text": [
      "  <ffsocket mode='unix' name='qtip4pf' pbc='false'>\n",
      "      <address>qtip4pf</address>\n",
      "  </ffsocket>\n",
      "\n",
      "[...]\n",
      "\n",
      "    <forces>\n",
      "      <force forcefield='qtip4pf'/>\n",
      "    </forces>\n"
     ]
    }
   ],
   "source": [
    "!sed -n '8,10p' h2o_pimd.xml\n",
    "print(\"\\n[...]\\n\")\n",
    "!sed -n '16,18p' h2o_pimd.xml"
   ]
  },
  {
   "cell_type": "markdown",
   "metadata": {},
   "source": [
    "... the definitin of the number of beads"
   ]
  },
  {
   "cell_type": "code",
   "execution_count": 4,
   "metadata": {},
   "outputs": [
    {
     "name": "stdout",
     "output_type": "stream",
     "text": [
      "    <initialize nbeads='8'>\n"
     ]
    }
   ],
   "source": [
    "!sed -n '12p' h2o_pimd.xml"
   ]
  },
  {
   "cell_type": "markdown",
   "metadata": {},
   "source": [
    "... and the time step"
   ]
  },
  {
   "cell_type": "code",
   "execution_count": 5,
   "metadata": {},
   "outputs": [
    {
     "name": "stdout",
     "output_type": "stream",
     "text": [
      "          <timestep units='femtosecond'> 0.5 </timestep>\n"
     ]
    }
   ],
   "source": [
    "!sed -n '24p' h2o_pimd.xml"
   ]
  },
  {
   "cell_type": "markdown",
   "metadata": {},
   "source": [
    "The horrendous `<thermostat>` section contains PIGLET parameters generated using the [GLE4MD website](https://gle4md.org/index.html?page=matrix&kind=piglet&centroid=kh_8-4&cw0=4000&ucw0=cm1&nbeads=8&temp=300&utemp=k&parset=20_8_t&outmode=ipi&aunits=ps&cunits=k)."
   ]
  },
  {
   "cell_type": "markdown",
   "metadata": {},
   "source": [
    "We are going to launch i-PI from here, and put it in background and detach the processes from the jupyter instance, so we can continue with the notebook. **DON'T RE-RUN THE CELL BEFORE THE CALCULATION HAS FINISHED** to avoid conflicts and file overwriting. "
   ]
  },
  {
   "cell_type": "code",
   "execution_count": 12,
   "metadata": {},
   "outputs": [],
   "source": [
    "%%bash --bg\n",
    "#cd 02-rpc_mts\n",
    "PYTHONUNBUFFERED=1 i-pi h2o_pimd.xml &> log.pimd &\n",
    "sleep 5\n",
    "for i in `seq 1 4`; do\n",
    "  i-pi-driver -u -a qtip4pf -m qtip4pf -v &> log.driver.$i &\n",
    "done\n",
    "wait"
   ]
  },
  {
   "cell_type": "markdown",
   "metadata": {},
   "source": [
    "You can view the log from here, to make sure all is running as it should"
   ]
  },
  {
   "cell_type": "code",
   "execution_count": 14,
   "metadata": {},
   "outputs": [
    {
     "name": "stdout",
     "output_type": "stream",
     "text": [
      "       </dynamics>\n",
      "     </motion>\n",
      "   </system>\n",
      " </simulation>\n",
      "  ---  end input file content  ---\n",
      "Backup performed: pimd.checkpoint -> #pimd.checkpoint#0#\n",
      " @SOCKET:   Client asked for connection from . Now hand-shaking.\n",
      " @SOCKET:   Handshaking was successful. Added to the client list.\n",
      " @SOCKET:   Client asked for connection from . Now hand-shaking.\n",
      " @SOCKET:   Handshaking was successful. Added to the client list.\n",
      " @SOCKET:   Client asked for connection from . Now hand-shaking.\n",
      " @SOCKET:   Handshaking was successful. Added to the client list.\n",
      " @SOCKET:   Client asked for connection from . Now hand-shaking.\n",
      " @SOCKET:   Handshaking was successful. Added to the client list.\n",
      " # Average timings at MD step       0. t/step: 1.15809e-01\n",
      " # Average timings at MD step     100. t/step: 1.21863e-01\n",
      " # Average timings at MD step     200. t/step: 1.26507e-01\n",
      " !W!  @SOCKET:   Timeout in getforce, trying again!\n",
      " # Average timings at MD step     300. t/step: 1.22435e-01\n",
      " # Average timings at MD step     400. t/step: 1.17957e-01\n"
     ]
    }
   ],
   "source": [
    "!tail -n 20 log.pimd"
   ]
  },
  {
   "cell_type": "markdown",
   "metadata": {},
   "source": [
    "# Multiple time stepping"
   ]
  },
  {
   "cell_type": "markdown",
   "metadata": {},
   "source": [
    "Let's now run a classical MD simulation, with and without multiple time stepping. We use very conservative parameters and a weak thermostat, to be able to see the difference in time scales between the full and short-range parts of the potential. Let's first run a classical MD for reference. The input file is `h2o_md.xml`, nothing exciting to see there."
   ]
  },
  {
   "cell_type": "code",
   "execution_count": 15,
   "metadata": {},
   "outputs": [],
   "source": [
    "%%bash --bg\n",
    "#cd 02-rpc_mts\n",
    "PYTHONUNBUFFERED=1 i-pi h2o_md.xml &> log.md &\n",
    "sleep 5\n",
    "i-pi-driver -u -a qtip4pf-md -m qtip4pf -v &> log.driver.md"
   ]
  },
  {
   "cell_type": "code",
   "execution_count": 17,
   "metadata": {},
   "outputs": [
    {
     "name": "stdout",
     "output_type": "stream",
     "text": [
      "       <force forcefield='qtip4pf'></force>\n",
      "     </forces>\n",
      "     <ensemble>\n",
      "       <temperature units='kelvin'> 300 </temperature>\n",
      "     </ensemble>\n",
      "     <motion mode='dynamics'>\n",
      "       <dynamics mode='nvt'>\n",
      "           <timestep units='femtosecond'> 0.5 </timestep>\n",
      "           <thermostat mode=\"svr\">\n",
      "              <tau units=\"femtosecond\"> 400 </tau>\n",
      "           </thermostat>\n",
      "       </dynamics>\n",
      "     </motion>\n",
      "   </system>\n",
      " </simulation>\n",
      "  ---  end input file content  ---\n",
      "Backup performed: md.checkpoint -> #md.checkpoint#0#\n",
      " @SOCKET:   Client asked for connection from . Now hand-shaking.\n",
      " @SOCKET:   Handshaking was successful. Added to the client list.\n",
      " # Average timings at MD step       0. t/step: 5.04866e-02\n"
     ]
    }
   ],
   "source": [
    "!tail -n 20 log.md"
   ]
  },
  {
   "cell_type": "markdown",
   "metadata": {},
   "source": [
    "While this runs, let's have a look at `h2o_mts.xml`, that provides the parameters of the MTS calculation. We define two `ffsocket` sections - one will be used with the `qtip4pf` driver and the other with `qtip4pf-sr`. Note the different names of the sockets (that have to match the `-a` option in the invocation of the driver) and the internal labels that will be referred to in the `<forces>` section. "
   ]
  },
  {
   "cell_type": "code",
   "execution_count": 9,
   "metadata": {},
   "outputs": [
    {
     "name": "stdout",
     "output_type": "stream",
     "text": [
      "  <ffsocket mode='unix' name='qtip4pf' pbc='false'>\n",
      "      <address>qtip4pf-full</address>\n",
      "  </ffsocket>\n",
      "  <ffsocket mode='unix' name='qtip4pf-sr' pbc='false'>\n",
      "      <address>qtip4pf-sr</address>\n",
      "  </ffsocket>\n"
     ]
    }
   ],
   "source": [
    "!sed -n '8,13p' h2o_mts.xml"
   ]
  },
  {
   "cell_type": "markdown",
   "metadata": {},
   "source": [
    "Each `<force>` block contains a `<mts_weights>` section. This provides a list of weights that determine which force components are active at each level of the MTS hierarchy. These weights indicate that the smooth part (full minus short-range) is active in the outer loop, and the short-range part is active in the inner loop. Note that the implementation is smart enough to re-use the short-range potential computed in the inner loop, multiplying it with a weight of $-1$ to compute $V_\\mathrm{lr}=V-V_\\mathrm{sr}$. "
   ]
  },
  {
   "cell_type": "code",
   "execution_count": 10,
   "metadata": {},
   "outputs": [
    {
     "name": "stdout",
     "output_type": "stream",
     "text": [
      "    <forces>\n",
      "      <force forcefield='qtip4pf'>\n",
      "              <mts_weights>[1,0]</mts_weights>\n",
      "      </force>\n",
      "      <force forcefield='qtip4pf-sr'>\n",
      "              <mts_weights>[-1,1]</mts_weights>\n",
      "      </force>\n",
      "    </forces>\n"
     ]
    }
   ],
   "source": [
    "!sed -n '19,26p' h2o_mts.xml"
   ]
  },
  {
   "cell_type": "markdown",
   "metadata": {},
   "source": [
    "It remains to specify the MTS setup. We use an outer time step of 2 fs (four times the typical time step for room temperature water) and a splitting with `M=4`, so the fast forces are computed every 0.5 fs."
   ]
  },
  {
   "cell_type": "code",
   "execution_count": 11,
   "metadata": {},
   "outputs": [
    {
     "name": "stdout",
     "output_type": "stream",
     "text": [
      "          <timestep units='femtosecond'> 2.0 </timestep>\n",
      "          <nmts>[1,4]</nmts>\n"
     ]
    }
   ],
   "source": [
    "!sed -n '32,33p' h2o_mts.xml"
   ]
  },
  {
   "cell_type": "markdown",
   "metadata": {},
   "source": [
    "One final detail, is that we print out the two components of the potential. This is achieved adding `pot_component{units}(idx)` to the `<properties>` field. The index corresponds to the order by which the `<force>` components are specified in the `<forces>` list. \n",
    "_NB: the time step in i-PI is the outer time step, so it is not possible to access directly the value of the potential for intermediate inner steps_"
   ]
  },
  {
   "cell_type": "code",
   "execution_count": 12,
   "metadata": {},
   "outputs": [
    {
     "name": "stdout",
     "output_type": "stream",
     "text": [
      "    <properties filename='out' stride='1'> [step, time{picosecond}, conserved{electronvolt}, temperature{kelvin}, potential{electronvolt}, kinetic_md{electronvolt}, pressure_md{megapascal}, pot_component{electronvolt}(0), pot_component{electronvolt}(1) ] </properties>\n"
     ]
    }
   ],
   "source": [
    "!sed -n '3p' h2o_mts.xml"
   ]
  },
  {
   "cell_type": "markdown",
   "metadata": {},
   "source": [
    "Let's get the simulation going. Notice that we need two drivers, computing the short and full potentials, connected to the proper `<ffsocket>` on the i-PI side"
   ]
  },
  {
   "cell_type": "code",
   "execution_count": 13,
   "metadata": {},
   "outputs": [],
   "source": [
    "%%bash --bg\n",
    "#cd 02-rpc_mts\n",
    "PYTHONUNBUFFERED=1 i-pi h2o_mts.xml &> log.mts &\n",
    "sleep 5\n",
    "i-pi-driver -u -a qtip4pf-mts-full -m qtip4pf -v &> log.driver.full &\n",
    "i-pi-driver -u -a qtip4pf-mts-sr -m qtip4pf-sr -v &> log.driver.sr &\n",
    "wait"
   ]
  },
  {
   "cell_type": "code",
   "execution_count": 42,
   "metadata": {},
   "outputs": [
    {
     "name": "stdout",
     "output_type": "stream",
     "text": [
      " # Average timings at MD step    1400. t/step: 1.19975e-01\n",
      " # Average timings at MD step    1500. t/step: 1.31706e-01\n",
      " # Average timings at MD step    1600. t/step: 1.28293e-01\n",
      " # Average timings at MD step    1700. t/step: 1.28247e-01\n",
      " # Average timings at MD step    1800. t/step: 1.14503e-01\n",
      " # Average timings at MD step    1900. t/step: 1.32380e-01\n",
      " # Average timings at MD step    2000. t/step: 1.27554e-01\n",
      " !W!  @SOCKET:   Timeout in getforce, trying again!\n",
      " # Average timings at MD step    2100. t/step: 1.26186e-01\n",
      " # Average timings at MD step    2200. t/step: 1.30167e-01\n",
      " !W!  @SOCKET:   Timeout in getforce, trying again!\n",
      " # Average timings at MD step    2300. t/step: 1.56137e-01\n",
      " # Average timings at MD step    2400. t/step: 1.32692e-01\n",
      "SOFTEXIT CALLED FROM THREAD <_MainThread(MainThread, started 139816104544064)>  @ SIMULATION: Exiting cleanly.\n",
      " !W! Soft exit has been requested with message: ' @ SIMULATION: Exiting cleanly.\n",
      "I-PI reports success. Restartable as is: NO.'. Cleaning up.\n",
      " @SOCKET: Shutting down the driver interface.\n",
      " @SOCKET: Shutting down the driver interface.\n",
      "SOFTEXIT: Saving the latest status at the end of the step\n",
      "Backup performed: RESTART -> #RESTART#28#\n"
     ]
    }
   ],
   "source": [
    "!tail -n 20 log.mts"
   ]
  },
  {
   "cell_type": "markdown",
   "metadata": {},
   "source": [
    "## Analysis of results"
   ]
  },
  {
   "cell_type": "markdown",
   "metadata": {},
   "source": [
    "Load the trajectories (might have to wait a few minutes for them to be over)"
   ]
  },
  {
   "cell_type": "code",
   "execution_count": 18,
   "metadata": {},
   "outputs": [],
   "source": [
    "md_output = pimdmooc.read_ipi_output('md.out')\n",
    "mts_output = pimdmooc.read_ipi_output('mts.out')"
   ]
  },
  {
   "cell_type": "markdown",
   "metadata": {},
   "source": [
    "We can start looking at the behavior of the two components of the potential. Even though this is hardly the best slow/fast mode splitting (usually one also includes the Lennard-Jones and short-range Coulomb components in $V_\\mathrm{sr}$) it is clear that the intra-molecular potential varies much faster than the non-bonded components. Running the whole simulation with a 2 fs time step would lead to major instabilities in the trajectory. "
   ]
  },
  {
   "cell_type": "code",
   "execution_count": 19,
   "metadata": {},
   "outputs": [
    {
     "data": {
      "image/png": "[encoded data removed]",
      "text/plain": [
       "<Figure size 360x180 with 1 Axes>"
      ]
     },
     "metadata": {
      "needs_background": "light"
     },
     "output_type": "display_data"
    }
   ],
   "source": [
    "fig, ax = plt.subplots(1,1,constrained_layout=True, figsize=(5,2.5))\n",
    "ax.plot(mts_output[\"time\"], mts_output[\"pot_component\"]-mts_output[\"pot_component+\"]-\n",
    "        ( mts_output[\"pot_component\"]-mts_output[\"pot_component+\"])[50], 'b-', label=r\"$V_\\mathrm{lr}$\")\n",
    "ax.plot(mts_output[\"time\"], mts_output[\"pot_component+\"]-mts_output[\"pot_component+\"][50], 'r-', label=r\"$V_\\mathrm{sr}$\")\n",
    "ax.set_xlabel(\"t / ps\")\n",
    "ax.set_ylabel(\"U / eV\")\n",
    "ax.set_xlim(0.1,0.5)\n",
    "ax.set_ylim(-5,5)\n",
    "ax.legend();"
   ]
  },
  {
   "cell_type": "markdown",
   "metadata": {},
   "source": [
    "The equilibration is slow due to the weak thermostat, but the two trajectories both equilibrate to 300 K. The difference in potential energy is not significant, because of the slow convergence of the potential energy in liquid water."
   ]
  },
  {
   "cell_type": "code",
   "execution_count": 45,
   "metadata": {},
   "outputs": [
    {
     "data": {
      "image/png": "[encoded data removed]",
      "text/plain": [
       "<Figure size 576x216 with 2 Axes>"
      ]
     },
     "metadata": {
      "needs_background": "light"
     },
     "output_type": "display_data"
    }
   ],
   "source": [
    "fig, ax = plt.subplots(1,2,constrained_layout=True, figsize=(8,3))\n",
    "ax[1].plot(mts_output[\"time\"], mts_output[\"potential\"], 'b-', label=\"MTS\")\n",
    "ax[1].plot(md_output[\"time\"], md_output[\"potential\"], 'c,', label=\"MD\")\n",
    "ax[1].set_xlabel(\"t / ps\")\n",
    "ax[1].set_ylabel(\"U / eV\")\n",
    "ax[0].plot(mts_output[\"time\"], mts_output[\"temperature\"], 'r-', label=\"MTS\")\n",
    "ax[0].plot(md_output[\"time\"], md_output[\"temperature\"], 'm,', label=\"MD\")\n",
    "ax[0].set_xlabel(\"t / ps\")\n",
    "ax[0].set_ylabel(\"T / K\")\n",
    "ax[0].legend()\n",
    "ax[1].legend();"
   ]
  },
  {
   "cell_type": "markdown",
   "metadata": {},
   "source": [
    "# RPC/MTS simulation"
   ]
  },
  {
   "cell_type": "markdown",
   "metadata": {},
   "source": [
    "Now let's get to the full beast. The input for the RCP/MTS simulation is `h2o_rpc-mts.xml`. The setup is rather subtle, because we will use the F90 driver that implements the full q-TIP4P/f potential (with `-m qtip4pf`) and the intra-molecular part (with `-m qtip4pf-sr`). This means that we will have to compute the slowly-varying part as $V_\\mathrm{full}-V_\\mathrm{sr}$. Let's look at the key sections in the input file. Much as for the MTS setup, the simulation includes two `ffsocket` sections - one will be used with the `qtip4pf` driver and the other with `qtip4pf-sr`. "
   ]
  },
  {
   "cell_type": "code",
   "execution_count": 19,
   "metadata": {},
   "outputs": [
    {
     "name": "stdout",
     "output_type": "stream",
     "text": [
      "  <ffsocket mode='unix' name='qtip4pf' pbc='false'>\n",
      "      <address>qtip4pf-full</address>\n",
      "  </ffsocket>\n",
      "  <ffsocket mode='unix' name='qtip4pf-sr' pbc='false'>\n",
      "      <address>qtip4pf-sr</address>\n",
      "  </ffsocket>  \n"
     ]
    }
   ],
   "source": [
    "!sed -n '8,13p' h2o_rpc-mts.xml"
   ]
  },
  {
   "cell_type": "markdown",
   "metadata": {},
   "source": [
    "The `<forces>` section is where the magic happens. There are three components here.\n",
    "The first computes a full `qtip4pf` potential, and is computed on a contraction to 2 beads, as indicated by the `nbeads='2'` attribute. \n",
    "A second component is also evaluated on a contracted ring polymer, and is used to subtract the short-range component to leave the (smoother) long-range part. This is achieved linking to the `qtip4pf-sr` forcefield, and using the attribute `weight='-1'` to subtract the term from the total potential. \n",
    "Finally, there is another `qtip4pf-sr` component, that is evaluated on the full `nbeads='8'` ring polymer. \n",
    "The result is a RPC setup in which the smooth (Lennard-Jones + Coulomb) part of the potential is contracted on 2 replicas, and the fast part is computed on 8 replicas, which (thanks to the use of a PIGLET thermostat) is enough to achieve a good degree of convergence for water at 300 K. \n",
    "\n",
    "Each `<force>` block also contains a `<mts_weights>` section, which is different from that used for the MTS simulation, because we now have a separate force component to subtract from the full potential, which is computed on the contracted ring polymer."
   ]
  },
  {
   "cell_type": "code",
   "execution_count": 20,
   "metadata": {},
   "outputs": [
    {
     "name": "stdout",
     "output_type": "stream",
     "text": [
      "    <forces>\n",
      "      <force forcefield='qtip4pf' nbeads='2'>\n",
      "         <mts_weights>[1,0]</mts_weights>\n",
      "      </force>\n",
      "      <force forcefield='qtip4pf-sr' nbeads='2' weight='-1'>\n",
      "         <mts_weights>[1,0]</mts_weights>\n",
      "      </force>\n",
      "      <force forcefield='qtip4pf-sr' nbeads='8'>\n",
      "         <mts_weights>[0,1]</mts_weights>\n",
      "      </force>\n",
      "    </forces>\n"
     ]
    }
   ],
   "source": [
    "!sed -n '19,29p' h2o_rpc-mts.xml"
   ]
  },
  {
   "cell_type": "markdown",
   "metadata": {},
   "source": [
    "It remains to specify the MTS setup. In this case, we use an outer time step of 1 fs (twice the typical time step for room temperature water) and a splitting with `M=2`, so the fast forces are computed every 0.5 fs. Compared to the classical MTS setup, we need a finer-grained integration because of the ring-polymer dynamics and because of the use of PIGLET, that requires a short time step to integrate accurately the Generalized Langevin equation. Still, even this splitting reduces by a factor of 2 the evaluations of the long-range potential. "
   ]
  },
  {
   "cell_type": "code",
   "execution_count": 21,
   "metadata": {},
   "outputs": [
    {
     "name": "stdout",
     "output_type": "stream",
     "text": [
      "          <timestep units='femtosecond'> 1.0 </timestep>\n",
      "          <nmts>[1,2]</nmts>\n"
     ]
    }
   ],
   "source": [
    "!sed -n '35,36p' h2o_rpc-mts.xml"
   ]
  },
  {
   "cell_type": "markdown",
   "metadata": {},
   "source": [
    "Finally, we are ready to run! We launch i-PI, and then execute two instances of the full potential (using `-m qtip4pf` and the correct socket address) and four instances of the short-range component, that is evaluated on the full ring polymer. This will take some time... "
   ]
  },
  {
   "cell_type": "code",
   "execution_count": 22,
   "metadata": {},
   "outputs": [],
   "source": [
    "%%bash --bg\n",
    "#cd 02-rpc_mts\n",
    "PYTHONUNBUFFERED=1 i-pi h2o_rpc-mts.xml &> log.rpc-mts &\n",
    "sleep 5\n",
    "for i in `seq 1 2`; do\n",
    "  i-pi-driver -u -a qtip4pf-full -m qtip4pf -v &> log.driver-full.$i &\n",
    "done\n",
    "for i in `seq 1 4`; do\n",
    "  i-pi-driver -u -a qtip4pf-sr -m qtip4pf-sr -v &> log.driver-sr.$i &\n",
    "done\n",
    "wait"
   ]
  },
  {
   "cell_type": "code",
   "execution_count": 46,
   "metadata": {},
   "outputs": [
    {
     "name": "stdout",
     "output_type": "stream",
     "text": [
      " # Average timings at MD step    1500. t/step: 1.61704e-01\n",
      " # Average timings at MD step    1600. t/step: 1.68807e-01\n",
      " # Average timings at MD step    1700. t/step: 1.73923e-01\n",
      " # Average timings at MD step    1800. t/step: 1.63951e-01\n",
      " # Average timings at MD step    1900. t/step: 1.54374e-01\n",
      " # Average timings at MD step    2000. t/step: 2.52677e-01\n",
      " # Average timings at MD step    2100. t/step: 1.78699e-01\n",
      " !W!  @SOCKET:   Timeout in getforce, trying again!\n",
      " # Average timings at MD step    2200. t/step: 1.70684e-01\n",
      " # Average timings at MD step    2300. t/step: 1.75342e-01\n",
      " # Average timings at MD step    2400. t/step: 1.81494e-01\n",
      " # Average timings at MD step    2500. t/step: 1.69679e-01\n",
      " # Average timings at MD step    2600. t/step: 1.58358e-01\n",
      " # Average timings at MD step    2700. t/step: 1.53890e-01\n",
      " # Average timings at MD step    2800. t/step: 1.74236e-01\n",
      " # Average timings at MD step    2900. t/step: 1.85673e-01\n",
      " # Average timings at MD step    3000. t/step: 2.63913e-01\n",
      " # Average timings at MD step    3100. t/step: 1.87113e-01\n",
      " # Average timings at MD step    3200. t/step: 1.82759e-01\n",
      " # Average timings at MD step    3300. t/step: 1.89975e-01\n"
     ]
    }
   ],
   "source": [
    "!tail -n 20 log.rpc-mts"
   ]
  },
  {
   "cell_type": "markdown",
   "metadata": {},
   "source": [
    "## Analysis of results"
   ]
  },
  {
   "cell_type": "markdown",
   "metadata": {},
   "source": [
    "Let's read the results from the reference and RPC/MTS simulations and analyze them"
   ]
  },
  {
   "cell_type": "code",
   "execution_count": 50,
   "metadata": {},
   "outputs": [],
   "source": [
    "pimd_output = pimdmooc.read_ipi_output('pimd.out')\n",
    "rpcmts_output = pimdmooc.read_ipi_output('rpc-mts.out')"
   ]
  },
  {
   "cell_type": "markdown",
   "metadata": {},
   "source": [
    "Let's start looking at the long-range/contracted and short-range components of the potential. Here the long-range part is the sum of the first two components of the potential, since the second enters with a negative weight. We don't see a clear time-scale separation here, because of the very aggressive PIGLET thermostat, that adds noise on top of the physical dynamics. \n",
    "This is not a major issue, because it only affects the dynamics of the momenta, but it means we cannot easily check for time scale separation when using advanced thermostatting schemes.  "
   ]
  },
  {
   "cell_type": "code",
   "execution_count": 51,
   "metadata": {},
   "outputs": [
    {
     "data": {
      "text/plain": [
       "(-5.0, 5.0)"
      ]
     },
     "execution_count": 51,
     "metadata": {},
     "output_type": "execute_result"
    },
    {
     "data": {
      "image/png": "[encoded data removed]",
      "text/plain": [
       "<Figure size 360x180 with 1 Axes>"
      ]
     },
     "metadata": {
      "needs_background": "light"
     },
     "output_type": "display_data"
    }
   ],
   "source": [
    "fig, ax = plt.subplots(1,1,constrained_layout=True, figsize=(5,2.5))\n",
    "ax.plot(rpcmts_output[\"time\"], (rpcmts_output[\"pot_component\"]+rpcmts_output[\"pot_component+\"])-\n",
    "        (rpcmts_output[\"pot_component\"]+rpcmts_output[\"pot_component+\"])[10], 'b-', label=\"V / Å$^3$\")\n",
    "ax.plot(rpcmts_output[\"time\"], rpcmts_output[\"pot_component++\"]-rpcmts_output[\"pot_component++\"][10], 'r-', label=\"V / Å$^3$\")\n",
    "ax.set_xlabel(\"t / ps\")\n",
    "ax.set_ylabel(\"U / eV\")\n",
    "ax.set_xlim(0,1.5)\n",
    "ax.set_ylim(-5,5)"
   ]
  },
  {
   "cell_type": "markdown",
   "metadata": {},
   "source": [
    "Simulations reach equilibrium faster than for the (weakly thermostatted) classical simulation, and even though the agreement between PIMD and the RPC+MTS run is not perfect, it is very good, in comparison with the major discrepancy between classical and quantum averages. "
   ]
  },
  {
   "cell_type": "code",
   "execution_count": 52,
   "metadata": {},
   "outputs": [
    {
     "data": {
      "image/png": "[encoded data removed]",
      "text/plain": [
       "<Figure size 576x216 with 2 Axes>"
      ]
     },
     "metadata": {
      "needs_background": "light"
     },
     "output_type": "display_data"
    }
   ],
   "source": [
    "fig, ax = plt.subplots(1,2,constrained_layout=True, figsize=(8,3))\n",
    "ax[0].plot(md_output[\"time\"], md_output[\"potential\"], 'b-', label=\"MD\")\n",
    "ax[0].plot(pimd_output[\"time\"], pimd_output[\"potential\"], 'r-', label=\"PIMD\")\n",
    "ax[0].plot(rpcmts_output[\"time\"], rpcmts_output[\"potential\"], 'm,', label=\"RPC-MTS\")\n",
    "ax[0].set_xlabel(\"t / ps\")\n",
    "ax[0].set_ylabel(\"U / eV\")\n",
    "ax[1].plot(md_output[\"time\"], md_output[\"kinetic_md\"], 'b-', label=\"MD\")\n",
    "ax[1].plot(pimd_output[\"time\"], pimd_output[\"kinetic_cv\"], 'r-', label=\"PIMD\")\n",
    "ax[1].plot(rpcmts_output[\"time\"], rpcmts_output[\"kinetic_cv\"], 'm,', label=\"RPC-MTS\")\n",
    "ax[1].set_xlabel(\"t / ps\")\n",
    "ax[1].set_ylabel(\"K / eV\")\n",
    "ax[0].legend();"
   ]
  },
  {
   "cell_type": "markdown",
   "metadata": {},
   "source": [
    "RPC+MTS simulations generate a distribution of structures at the highest path integral resolution, and can be used to compute all sorts of structural properties."
   ]
  },
  {
   "cell_type": "code",
   "execution_count": 53,
   "metadata": {},
   "outputs": [],
   "source": [
    "# loads structures, discarding unused atom properties\n",
    "warnings.filterwarnings('ignore', '.*residuenumbers array.*')\n",
    "pi_frames = [ pimdmooc.read_ipi_xyz('rpc-mts.pos_'+str(i)+'.xyz') for i in range(8) ]\n",
    "frames = []\n",
    "for idx_f in range(len(pi_frames[0])):\n",
    "    f = pi_frames[0][idx_f]\n",
    "    for k in range(1,8):\n",
    "        f += pi_frames[k][idx_f]\n",
    "    f.info = {}\n",
    "    f.arrays = {'positions': f.positions,  'numbers': f.numbers}\n",
    "    frames.append(f)"
   ]
  },
  {
   "cell_type": "code",
   "execution_count": 54,
   "metadata": {},
   "outputs": [
    {
     "data": {
      "application/vnd.jupyter.widget-view+json": {
       "model_id": "ac1ed0817ed14bfa812a6db99b572d53",
       "version_major": 2,
       "version_minor": 0
      },
      "text/plain": [
       "ChemiscopeWidget(value='{\"meta\": {\"name\": \" \"}, \"settings\": {\"structure\": [{\"bonds\": false, \"keepOrientation\":…"
      ]
     },
     "execution_count": 54,
     "metadata": {},
     "output_type": "execute_result"
    }
   ],
   "source": [
    "chemiscope.show(frames=frames, \n",
    "                     properties={\n",
    "                         \"t\" : { \"values\":  rpcmts_output[\"time\"][::25], \"units\": \"ps\", \"target\":\"structure\"},\n",
    "                         \"U\" : { \"values\":  rpcmts_output[\"potential\"][::25], \"units\": \"eV\", \"target\":\"structure\"},\n",
    "                         \"K\" : { \"values\":  rpcmts_output[\"kinetic_cv\"][::25], \"units\": r\"Å\", \"target\":\"structure\"}\n",
    "                     },\n",
    "                     settings = {\n",
    "                         'structure': [{ 'bonds': False, \n",
    "                                         'keepOrientation': True, \n",
    "                                         'unitCell': True,\n",
    "                                         'playbackDelay': 20}],\n",
    "                        'map': {'x': {'max': 5,  'min': 0, 'property': 't', 'scale': 'linear'},\n",
    "                                'y': {'max': 3500,  'min': 2800, 'property': 'K', 'scale': 'linear'},\n",
    "                                 'color': {'property': 'U'}\n",
    "                               }\n",
    "                     })"
   ]
  }
 ],
 "metadata": {
  "kernelspec": {
   "display_name": "Python 3",
   "language": "python",
   "name": "python3"
  },
  "language_info": {
   "codemirror_mode": {
    "name": "ipython",
    "version": 3
   },
   "file_extension": ".py",
   "mimetype": "text/x-python",
   "name": "python",
   "nbconvert_exporter": "python",
   "pygments_lexer": "ipython3",
   "version": "3.8.10"
  },
  "toc": {
   "base_numbering": 1,
   "nav_menu": {},
   "number_sections": true,
   "sideBar": true,
   "skip_h1_title": false,
   "title_cell": "Table of Contents",
   "title_sidebar": "Contents",
   "toc_cell": false,
   "toc_position": {
    "height": "calc(100% - 180px)",
    "left": "10px",
    "top": "150px",
    "width": "397px"
   },
   "toc_section_display": true,
   "toc_window_display": true
  }
 },
 "nbformat": 4,
 "nbformat_minor": 4
}
